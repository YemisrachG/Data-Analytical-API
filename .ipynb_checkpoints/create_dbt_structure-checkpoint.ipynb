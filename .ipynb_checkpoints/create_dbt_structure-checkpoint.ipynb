{
 "cells": [
  {
   "cell_type": "code",
   "execution_count": 1,
   "id": "36104c34-241b-4470-b0dc-f301756b7f8a",
   "metadata": {},
   "outputs": [
    {
     "name": "stdout",
     "output_type": "stream",
     "text": [
      "✅ DBT project structure created.\n"
     ]
    }
   ],
   "source": [
    "import os\n",
    "\n",
    "# Define folder and file structure\n",
    "folders = [\n",
    "    \"dbt/models/staging\",\n",
    "    \"dbt/models/marts\"\n",
    "]\n",
    "\n",
    "files = {\n",
    "    \"dbt/models/staging/stg_telegram_messages.sql\": \"\",\n",
    "    \"dbt/models/marts/dim_channels.sql\": \"\",\n",
    "    \"dbt/models/marts/dim_dates.sql\": \"\",\n",
    "    \"dbt/models/marts/fct_messages.sql\": \"\",\n",
    "    \"dbt/dbt_project.yml\": \"\",\n",
    "    \"dbt/packages.yml\": \"\"\n",
    "}\n",
    "\n",
    "# Create folders\n",
    "for folder in folders:\n",
    "    os.makedirs(folder, exist_ok=True)\n",
    "\n",
    "# Create files\n",
    "for file_path, content in files.items():\n",
    "    with open(file_path, \"w\", encoding=\"utf-8\") as f:\n",
    "        f.write(content)\n",
    "\n",
    "print(\"✅ DBT project structure created.\")\n"
   ]
  },
  {
   "cell_type": "code",
   "execution_count": null,
   "id": "4f34f0d6-b508-45b1-b949-a66774c94a53",
   "metadata": {},
   "outputs": [],
   "source": []
  },
  {
   "cell_type": "code",
   "execution_count": null,
   "id": "58686428-e6b2-496e-8270-a815381f8dd4",
   "metadata": {},
   "outputs": [
    {
     "name": "stdout",
     "output_type": "stream",
     "text": [
      "Requirement already satisfied: dbt-core in d:\\wk 7 data engineering challenge\\data-analytical-api\\venv\\lib\\site-packages (1.10.4)\n",
      "Requirement already satisfied: dbt-postgres in d:\\wk 7 data engineering challenge\\data-analytical-api\\venv\\lib\\site-packages (1.9.0)\n",
      "Requirement already satisfied: agate<1.10,>=1.7.0 in d:\\wk 7 data engineering challenge\\data-analytical-api\\venv\\lib\\site-packages (from dbt-core) (1.9.1)\n",
      "Requirement already satisfied: Jinja2<4,>=3.1.3 in d:\\wk 7 data engineering challenge\\data-analytical-api\\venv\\lib\\site-packages (from dbt-core) (3.1.6)\n",
      "Requirement already satisfied: mashumaro<3.15,>=3.9 in d:\\wk 7 data engineering challenge\\data-analytical-api\\venv\\lib\\site-packages (from mashumaro[msgpack]<3.15,>=3.9->dbt-core) (3.14)\n",
      "Requirement already satisfied: click<9.0,>=8.0.2 in d:\\wk 7 data engineering challenge\\data-analytical-api\\venv\\lib\\site-packages (from dbt-core) (8.2.1)\n",
      "Requirement already satisfied: jsonschema<5.0,>=4.19.1 in d:\\wk 7 data engineering challenge\\data-analytical-api\\venv\\lib\\site-packages (from dbt-core) (4.24.0)\n",
      "Requirement already satisfied: networkx<4.0,>=2.3 in d:\\wk 7 data engineering challenge\\data-analytical-api\\venv\\lib\\site-packages (from dbt-core) (3.5)\n",
      "Requirement already satisfied: protobuf<6.0,>=5.0 in d:\\wk 7 data engineering challenge\\data-analytical-api\\venv\\lib\\site-packages (from dbt-core) (5.29.5)\n",
      "Requirement already satisfied: requests<3.0.0 in d:\\wk 7 data engineering challenge\\data-analytical-api\\venv\\lib\\site-packages (from dbt-core) (2.32.4)\n",
      "Requirement already satisfied: snowplow-tracker<2.0,>=1.0.2 in d:\\wk 7 data engineering challenge\\data-analytical-api\\venv\\lib\\site-packages (from dbt-core) (1.1.0)\n",
      "Requirement already satisfied: pathspec<0.13,>=0.9 in d:\\wk 7 data engineering challenge\\data-analytical-api\\venv\\lib\\site-packages (from dbt-core) (0.12.1)\n",
      "Requirement already satisfied: sqlparse<0.6.0,>=0.5.0 in d:\\wk 7 data engineering challenge\\data-analytical-api\\venv\\lib\\site-packages (from dbt-core) (0.5.3)\n",
      "Requirement already satisfied: dbt-extractor<=0.6,>=0.5.0 in d:\\wk 7 data engineering challenge\\data-analytical-api\\venv\\lib\\site-packages (from dbt-core) (0.6.0)\n",
      "Requirement already satisfied: dbt-semantic-interfaces<0.10,>=0.9.0 in d:\\wk 7 data engineering challenge\\data-analytical-api\\venv\\lib\\site-packages (from dbt-core) (0.9.0)\n",
      "Requirement already satisfied: dbt-common<2.0,>=1.25.1 in d:\\wk 7 data engineering challenge\\data-analytical-api\\venv\\lib\\site-packages (from dbt-core) (1.26.0)\n",
      "Requirement already satisfied: dbt-adapters<2.0,>=1.15.2 in d:\\wk 7 data engineering challenge\\data-analytical-api\\venv\\lib\\site-packages (from dbt-core) (1.16.1)\n",
      "Requirement already satisfied: dbt-protos<2.0,>=1.0.335 in d:\\wk 7 data engineering challenge\\data-analytical-api\\venv\\lib\\site-packages (from dbt-core) (1.0.337)\n",
      "Requirement already satisfied: pydantic<3 in d:\\wk 7 data engineering challenge\\data-analytical-api\\venv\\lib\\site-packages (from dbt-core) (2.11.7)\n",
      "Requirement already satisfied: packaging>20.9 in d:\\wk 7 data engineering challenge\\data-analytical-api\\venv\\lib\\site-packages (from dbt-core) (25.0)\n",
      "Requirement already satisfied: pytz>=2015.7 in d:\\wk 7 data engineering challenge\\data-analytical-api\\venv\\lib\\site-packages (from dbt-core) (2025.2)\n",
      "Requirement already satisfied: pyyaml>=6.0 in d:\\wk 7 data engineering challenge\\data-analytical-api\\venv\\lib\\site-packages (from dbt-core) (6.0.2)\n",
      "Requirement already satisfied: daff>=1.3.46 in d:\\wk 7 data engineering challenge\\data-analytical-api\\venv\\lib\\site-packages (from dbt-core) (1.4.2)\n",
      "Requirement already satisfied: typing-extensions>=4.4 in d:\\wk 7 data engineering challenge\\data-analytical-api\\venv\\lib\\site-packages (from dbt-core) (4.14.1)\n",
      "Requirement already satisfied: Babel>=2.0 in d:\\wk 7 data engineering challenge\\data-analytical-api\\venv\\lib\\site-packages (from agate<1.10,>=1.7.0->dbt-core) (2.17.0)\n",
      "Requirement already satisfied: isodate>=0.5.4 in d:\\wk 7 data engineering challenge\\data-analytical-api\\venv\\lib\\site-packages (from agate<1.10,>=1.7.0->dbt-core) (0.6.1)\n",
      "Requirement already satisfied: leather>=0.3.2 in d:\\wk 7 data engineering challenge\\data-analytical-api\\venv\\lib\\site-packages (from agate<1.10,>=1.7.0->dbt-core) (0.4.0)\n",
      "Requirement already satisfied: parsedatetime!=2.5,>=2.1 in d:\\wk 7 data engineering challenge\\data-analytical-api\\venv\\lib\\site-packages (from agate<1.10,>=1.7.0->dbt-core) (2.6)\n",
      "Requirement already satisfied: python-slugify>=1.2.1 in d:\\wk 7 data engineering challenge\\data-analytical-api\\venv\\lib\\site-packages (from agate<1.10,>=1.7.0->dbt-core) (8.0.4)\n",
      "Requirement already satisfied: pytimeparse>=1.1.5 in d:\\wk 7 data engineering challenge\\data-analytical-api\\venv\\lib\\site-packages (from agate<1.10,>=1.7.0->dbt-core) (1.1.8)\n",
      "Requirement already satisfied: tzdata>=2023.3 in d:\\wk 7 data engineering challenge\\data-analytical-api\\venv\\lib\\site-packages (from agate<1.10,>=1.7.0->dbt-core) (2025.2)\n",
      "Requirement already satisfied: colorama in d:\\wk 7 data engineering challenge\\data-analytical-api\\venv\\lib\\site-packages (from click<9.0,>=8.0.2->dbt-core) (0.4.6)\n",
      "Requirement already satisfied: deepdiff<8.0,>=7.0 in d:\\wk 7 data engineering challenge\\data-analytical-api\\venv\\lib\\site-packages (from dbt-common<2.0,>=1.25.1->dbt-core) (7.0.1)\n",
      "Requirement already satisfied: python-dateutil<3.0,>=2.0 in d:\\wk 7 data engineering challenge\\data-analytical-api\\venv\\lib\\site-packages (from dbt-common<2.0,>=1.25.1->dbt-core) (2.9.0.post0)\n",
      "Requirement already satisfied: importlib-metadata<9,>=6.0 in d:\\wk 7 data engineering challenge\\data-analytical-api\\venv\\lib\\site-packages (from dbt-semantic-interfaces<0.10,>=0.9.0->dbt-core) (8.7.0)\n",
      "Requirement already satisfied: more-itertools<11.0,>=8.0 in d:\\wk 7 data engineering challenge\\data-analytical-api\\venv\\lib\\site-packages (from dbt-semantic-interfaces<0.10,>=0.9.0->dbt-core) (10.7.0)\n",
      "Requirement already satisfied: ordered-set<4.2.0,>=4.1.0 in d:\\wk 7 data engineering challenge\\data-analytical-api\\venv\\lib\\site-packages (from deepdiff<8.0,>=7.0->dbt-common<2.0,>=1.25.1->dbt-core) (4.1.0)\n",
      "Requirement already satisfied: zipp>=3.20 in d:\\wk 7 data engineering challenge\\data-analytical-api\\venv\\lib\\site-packages (from importlib-metadata<9,>=6.0->dbt-semantic-interfaces<0.10,>=0.9.0->dbt-core) (3.23.0)\n",
      "Requirement already satisfied: six in d:\\wk 7 data engineering challenge\\data-analytical-api\\venv\\lib\\site-packages (from isodate>=0.5.4->agate<1.10,>=1.7.0->dbt-core) (1.17.0)\n",
      "Requirement already satisfied: MarkupSafe>=2.0 in d:\\wk 7 data engineering challenge\\data-analytical-api\\venv\\lib\\site-packages (from Jinja2<4,>=3.1.3->dbt-core) (3.0.2)\n",
      "Requirement already satisfied: attrs>=22.2.0 in d:\\wk 7 data engineering challenge\\data-analytical-api\\venv\\lib\\site-packages (from jsonschema<5.0,>=4.19.1->dbt-core) (25.3.0)\n",
      "Requirement already satisfied: jsonschema-specifications>=2023.03.6 in d:\\wk 7 data engineering challenge\\data-analytical-api\\venv\\lib\\site-packages (from jsonschema<5.0,>=4.19.1->dbt-core) (2025.4.1)\n",
      "Requirement already satisfied: referencing>=0.28.4 in d:\\wk 7 data engineering challenge\\data-analytical-api\\venv\\lib\\site-packages (from jsonschema<5.0,>=4.19.1->dbt-core) (0.36.2)\n",
      "Requirement already satisfied: rpds-py>=0.7.1 in d:\\wk 7 data engineering challenge\\data-analytical-api\\venv\\lib\\site-packages (from jsonschema<5.0,>=4.19.1->dbt-core) (0.26.0)\n",
      "Requirement already satisfied: msgpack>=0.5.6 in d:\\wk 7 data engineering challenge\\data-analytical-api\\venv\\lib\\site-packages (from mashumaro[msgpack]<3.15,>=3.9->dbt-core) (1.1.1)\n",
      "Requirement already satisfied: annotated-types>=0.6.0 in d:\\wk 7 data engineering challenge\\data-analytical-api\\venv\\lib\\site-packages (from pydantic<3->dbt-core) (0.7.0)\n",
      "Requirement already satisfied: pydantic-core==2.33.2 in d:\\wk 7 data engineering challenge\\data-analytical-api\\venv\\lib\\site-packages (from pydantic<3->dbt-core) (2.33.2)\n",
      "Requirement already satisfied: typing-inspection>=0.4.0 in d:\\wk 7 data engineering challenge\\data-analytical-api\\venv\\lib\\site-packages (from pydantic<3->dbt-core) (0.4.1)\n",
      "Requirement already satisfied: charset_normalizer<4,>=2 in d:\\wk 7 data engineering challenge\\data-analytical-api\\venv\\lib\\site-packages (from requests<3.0.0->dbt-core) (3.4.2)\n",
      "Requirement already satisfied: idna<4,>=2.5 in d:\\wk 7 data engineering challenge\\data-analytical-api\\venv\\lib\\site-packages (from requests<3.0.0->dbt-core) (3.10)\n",
      "Requirement already satisfied: urllib3<3,>=1.21.1 in d:\\wk 7 data engineering challenge\\data-analytical-api\\venv\\lib\\site-packages (from requests<3.0.0->dbt-core) (2.5.0)\n",
      "Requirement already satisfied: certifi>=2017.4.17 in d:\\wk 7 data engineering challenge\\data-analytical-api\\venv\\lib\\site-packages (from requests<3.0.0->dbt-core) (2025.7.9)\n",
      "Requirement already satisfied: psycopg2-binary<3.0,>=2.9 in d:\\wk 7 data engineering challenge\\data-analytical-api\\venv\\lib\\site-packages (from dbt-postgres) (2.9.10)\n",
      "Requirement already satisfied: text-unidecode>=1.3 in d:\\wk 7 data engineering challenge\\data-analytical-api\\venv\\lib\\site-packages (from python-slugify>=1.2.1->agate<1.10,>=1.7.0->dbt-core) (1.3)\n"
     ]
    }
   ],
   "source": [
    "!pip install dbt-core dbt-postgres\n",
    "!dbt init dbt\n",
    "sql = \"\"\"\n",
    "SELECT \n",
    "    id,\n",
    "    CAST(date AS timestamp) AS message_time,\n",
    "    sender_id,\n",
    "    text,\n",
    "    has_photo\n",
    "FROM raw.telegram_messages\n",
    "\"\"\"\n"
   ]
  },
  {
   "cell_type": "code",
   "execution_count": null,
   "id": "e10708d8-d5eb-4961-99d7-d89274fadbb5",
   "metadata": {},
   "outputs": [],
   "source": []
  }
 ],
 "metadata": {
  "kernelspec": {
   "display_name": "Python 3 (ipykernel)",
   "language": "python",
   "name": "python3"
  },
  "language_info": {
   "codemirror_mode": {
    "name": "ipython",
    "version": 3
   },
   "file_extension": ".py",
   "mimetype": "text/x-python",
   "name": "python",
   "nbconvert_exporter": "python",
   "pygments_lexer": "ipython3",
   "version": "3.13.3"
  }
 },
 "nbformat": 4,
 "nbformat_minor": 5
}
